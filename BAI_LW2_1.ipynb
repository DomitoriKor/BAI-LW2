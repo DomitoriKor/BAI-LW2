{
  "nbformat": 4,
  "nbformat_minor": 0,
  "metadata": {
    "colab": {
      "name": "BAI-LW2-1.ipynb",
      "provenance": [],
      "collapsed_sections": []
    },
    "kernelspec": {
      "name": "python3",
      "display_name": "Python 3"
    }
  },
  "cells": [
    {
      "cell_type": "code",
      "metadata": {
        "id": "IBvBOLamqehS",
        "colab_type": "code",
        "colab": {}
      },
      "source": [
        "import time\n",
        "import numpy as np\n",
        "import matplotlib.pyplot as plt"
      ],
      "execution_count": 0,
      "outputs": []
    },
    {
      "cell_type": "code",
      "metadata": {
        "id": "Gwvhj207q8aT",
        "colab_type": "code",
        "colab": {}
      },
      "source": [
        "class Solver:\n",
        "    # Игрок, чья стратегия - уменьшение проигрыша\n",
        "    def __init__(self, bandits_line, eps, init_prob=1.0):\n",
        "        np.random.seed(int(time.time()))\n",
        "\n",
        "        self.bandits_line = bandits_line\n",
        "\n",
        "        self.counts = [0] * self.bandits_line.n\n",
        "        self.actions = []  # Список выбранных автоматов, от 0 до bandits_line.n-1.\n",
        "        self.regret = 0.  # Накапливаемый проигрыш.\n",
        "        self.regrets = [0.]  # Накапливаемый проигрыш в ретроспективе.\n",
        "\n",
        "        assert 0. <= eps <= 1.0\n",
        "        self.eps = eps\n",
        "\n",
        "        self.estimates = [init_prob] * self.bandits_line.n\n",
        "\n",
        "    def update_regret(self, i):\n",
        "        # i: индекс выбранного игрового автомата.\n",
        "        self.regret += self.bandits_line.best_prob - self.bandits_line.probs[i]\n",
        "        self.regrets.append(self.regret)\n",
        "\n",
        "    @property\n",
        "    def estimated_probs(self):\n",
        "        return self.estimates\n",
        "\n",
        "    def run(self, num_steps):\n",
        "        assert self.bandits_line is not None\n",
        "        for _ in range(num_steps):\n",
        "            i = self.run_one_step()\n",
        "\n",
        "            self.counts[i] += 1\n",
        "            self.actions.append(i)\n",
        "            self.update_regret(i)\n",
        "\n",
        "    def run_one_step(self):\n",
        "        if np.random.random() < self.eps:\n",
        "            i = np.random.randint(0, self.bandits_line.n)\n",
        "        else:\n",
        "            i = max(range(self.bandits_line.n), key=lambda x: self.estimates[x])\n",
        "\n",
        "        r = self.bandits_line.generate_reward(i)\n",
        "        self.estimates[i] += 1. / (self.counts[i] + 1) * (r - self.estimates[i])\n",
        "\n",
        "        return i"
      ],
      "execution_count": 0,
      "outputs": []
    },
    {
      "cell_type": "code",
      "metadata": {
        "id": "UEFmDf5Fq8Lj",
        "colab_type": "code",
        "colab": {}
      },
      "source": [
        "class BanditsLine:\n",
        "    # Ряд игровых автоматов с заданной вероятнотью выигрыша\n",
        "    def __init__(self, n, probs=None):\n",
        "        assert probs is None or len(probs) == n\n",
        "        self.n = n\n",
        "        if probs is None:\n",
        "            np.random.seed(int(time.time()))\n",
        "            self.probs = [1 - 2 * np.random.random() for _ in range(self.n)]\n",
        "        else:\n",
        "            self.probs = probs\n",
        "\n",
        "        self.best_bandit = max(range(self.n), key=lambda x: self.probs[x])\n",
        "        self.best_prob = self.probs[self.best_bandit]\n",
        "\n",
        "    def create_optimal_bandit(self, i, opt_val):\n",
        "        # i: индекс оптимального автомата.\n",
        "        # opt_val: вероятность выигрыша на оптимальном автомате (opv_val > self.best_prob)\n",
        "        assert opt_val > self.best_prob and opt_val <= 1, \"Не удалось создать оптимальный автомат\"\n",
        "        if opt_val > self.best_prob:\n",
        "            self.probs[i] = opt_val\n",
        "            self.best_prob = opt_val\n",
        "            self.best_bandit = i\n",
        "\n",
        "    def generate_reward(self, i):\n",
        "        # Игрок выбрал i-й игровой автомат.\n",
        "        result = 1 - 2 * np.random.random()\n",
        "        if result < self.probs[i]:\n",
        "            return 1\n",
        "        else:\n",
        "            return -1"
      ],
      "execution_count": 0,
      "outputs": []
    },
    {
      "cell_type": "code",
      "metadata": {
        "id": "jSrIPib61HTI",
        "colab_type": "code",
        "colab": {}
      },
      "source": [
        "def plot_results(s):\n",
        "    b = s.bandits_line\n",
        "\n",
        "    fig = plt.figure(figsize=(14, 4))\n",
        "    fig.subplots_adjust(bottom=0.3, wspace=0.3)\n",
        "\n",
        "    ax1 = fig.add_subplot(131)\n",
        "    ax2 = fig.add_subplot(132)\n",
        "    ax3 = fig.add_subplot(133)\n",
        "\n",
        "    # Sub.fig. 1: Regrets in time.\n",
        "    ax1.plot(range(len(s.regrets)), s.regrets, label=\"Solver\")\n",
        "\n",
        "    ax1.set_xlabel('Time step')\n",
        "    ax1.set_ylabel('Cumulative regret')\n",
        "    ax1.legend(loc=9, bbox_to_anchor=(1.82, -0.25), ncol=5)\n",
        "    ax1.grid('k', ls='--', alpha=0.3)\n",
        "\n",
        "    # Sub.fig. 2: Probabilities estimated by solvers.\n",
        "    sorted_indices = sorted(range(b.n), key=lambda x: b.probs[x])\n",
        "    ax2.plot(range(b.n), [b.probs[x] for x in sorted_indices], 'k--', markersize=12)\n",
        "    \n",
        "    ax2.plot(range(b.n), [s.estimated_probs[x] for x in sorted_indices], 'x', markeredgewidth=2)\n",
        "    ax2.set_xlabel('Actions sorted by probs')\n",
        "    ax2.set_ylabel('Estimated')\n",
        "    ax2.grid('k', ls='--', alpha=0.3)\n",
        "\n",
        "    # Sub.fig. 3: Action counts\n",
        "    ax3.plot(range(b.n), np.array(s.counts) / float(len(s.regrets)), ls='steps', lw=2)\n",
        "    ax3.set_xlabel('Actions')\n",
        "    ax3.set_ylabel('Frac. # trials')\n",
        "    ax3.grid('k', ls='--', alpha=0.3)\n",
        "\n",
        "    plt.show()"
      ],
      "execution_count": 0,
      "outputs": []
    },
    {
      "cell_type": "code",
      "metadata": {
        "id": "Hhp40F3tqkHz",
        "colab_type": "code",
        "colab": {}
      },
      "source": [
        "def experiment(k, n):\n",
        "    # k: количество игровых автоматов.\n",
        "    # n: количество попыток.\n",
        "\n",
        "    test_bl = BanditsLine(k)\n",
        "    print(\"Случайно сгенерированный ряд игровых автоматов с вероятностями выигрыша:\")\n",
        "    for x in range(k):\n",
        "        print(\"\\t{}: {}\".format(x, test_bl.probs[x]))\n",
        "    print(\"Лучший игровой автомат:\\n\\t{}: {}\".format(\n",
        "        max(range(k), key=lambda x: test_bl.probs[x]), max(test_bl.probs)))\n",
        "\n",
        "    test_solver = Solver(test_bl, 0.01)\n",
        "    test_solver.run(n)\n",
        "\n",
        "    plot_results(test_solver)"
      ],
      "execution_count": 0,
      "outputs": []
    },
    {
      "cell_type": "code",
      "metadata": {
        "id": "hueOMrjwzbWz",
        "colab_type": "code",
        "colab": {}
      },
      "source": [
        "def experiment_with_optimal_bandit(k, n, i, opt_val):\n",
        "    # k: количество игровых автоматов.\n",
        "    # n: количество попыток.\n",
        "    # i: индекс оптимального автомата.\n",
        "    # opt_val: вероятность выигрыша на оптимальном автомате.\n",
        "\n",
        "    test_bl = BanditsLine(k)\n",
        "    test_bl.create_optimal_bandit(i, opt_val)\n",
        "    print(\"Случайно сгенерированный ряд игровых автоматов с вероятностями выигрыша:\")\n",
        "    for x in range(k):\n",
        "        print(\"\\t{}: {}\".format(x, test_bl.probs[x]))\n",
        "    print(\"Оптимальный игровой автомат:\\n\\t{}: {}\".format(i, test_bl.probs[i]))\n",
        "\n",
        "    test_solver = Solver(test_bl, 0.01)\n",
        "    test_solver.run(n)\n",
        "\n",
        "    plot_results(test_solver)"
      ],
      "execution_count": 0,
      "outputs": []
    },
    {
      "cell_type": "code",
      "metadata": {
        "id": "um1Wo121y2ac",
        "colab_type": "code",
        "outputId": "785a4a2f-7649-43c8-f008-f89989e24918",
        "colab": {
          "base_uri": "https://localhost:8080/",
          "height": 527
        }
      },
      "source": [
        "#experiment(10, 5000)\n",
        "experiment_with_optimal_bandit(10, 5000, 4, 1)"
      ],
      "execution_count": 7,
      "outputs": [
        {
          "output_type": "stream",
          "text": [
            "Случайно сгенерированный ряд игровых автоматов с вероятностями выигрыша:\n",
            "\t0: 0.9528911623703216\n",
            "\t1: 0.6789642610950168\n",
            "\t2: -0.6926562154858786\n",
            "\t3: 0.19995664813682734\n",
            "\t4: 1\n",
            "\t5: -0.12952360681045172\n",
            "\t6: -0.8408083237110224\n",
            "\t7: 0.5550271375971019\n",
            "\t8: 0.880985824600667\n",
            "\t9: -0.27380692262365414\n",
            "Оптимальный игровой автомат:\n",
            "\t4: 1\n"
          ],
          "name": "stdout"
        },
        {
          "output_type": "stream",
          "text": [
            "/usr/local/lib/python3.6/dist-packages/ipykernel_launcher.py:29: MatplotlibDeprecationWarning: Passing the drawstyle with the linestyle as a single string is deprecated since Matplotlib 3.1 and support will be removed in 3.3; please pass the drawstyle separately using the drawstyle keyword argument to Line2D or set_drawstyle() method (or ds/set_ds()).\n"
          ],
          "name": "stderr"
        },
        {
          "output_type": "display_data",
          "data": {
            "image/png": "[encoded data removed]",
            "text/plain": [
              "<Figure size 1008x288 with 3 Axes>"
            ]
          },
          "metadata": {
            "tags": [],
            "needs_background": "light"
          }
        }
      ]
    }
  ]
}